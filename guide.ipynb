{
 "cells": [
  {
   "cell_type": "code",
   "execution_count": 14,
   "id": "266efdad",
   "metadata": {},
   "outputs": [],
   "source": [
    "import requests\n",
    "import polars as pl\n",
    "from datetime import datetime\n",
    "import altair as alt\n",
    "import matplotlib.pyplot as plt\n",
    "import yfinance as yf\n",
    "import mplfinance as mpf\n",
    "import numpy as np\n",
    "import pandas as pd"
   ]
  },
  {
   "cell_type": "code",
   "execution_count": 3,
   "id": "a519bdc8",
   "metadata": {},
   "outputs": [],
   "source": [
    "HEADERS_APPLICATION = {\n",
    "    \"accept\": \"application/json\",\n",
    "    \"user-agent\": \"Mozilla/5.0 (Macintosh; Intel Mac OS X 10_15_7) AppleWebKit/537.36 (KHTML, like Gecko) Chrome/138.0.0.0 Safari/537.36\",\n",
    "}\n",
    "HEADERS_CHARTING = {\n",
    "    \"accept\": \"*/*\",\n",
    "    \"referer\": \"https://charting.nasdaq.com/dynamic/chart.html\",\n",
    "    \"user-agent\": \"Mozilla/5.0 (Macintosh; Intel Mac OS X 10_15_7) AppleWebKit/537.36 (KHTML, like Gecko) Chrome/138.0.0.0 Safari/537.36\",\n",
    "}\n",
    "SYMBOL = \"AAPL\""
   ]
  },
  {
   "cell_type": "code",
   "execution_count": null,
   "id": "c1b80cc4",
   "metadata": {},
   "outputs": [],
   "source": [
    "class Api:\n",
    "    def __init__(self, headers):\n",
    "        self.headers = headers\n",
    "\n",
    "    def get(self, url):\n",
    "        res = requests.get(url, headers=self.headers)\n",
    "        data = res.json()\n",
    "        if \"data\" in res:\n",
    "            data = data[\"data\"]\n",
    "        if not isinstance(data, list):\n",
    "            data = [data]\n",
    "        return pl.DataFrame(data)\n",
    "\n",
    "    def get_raw(self, url):\n",
    "        res = requests.get(url, headers=self.headers)\n",
    "        return res\n",
    "\n",
    "\n",
    "api = Api(HEADERS_APPLICATION)\n",
    "api_chart = Api(HEADERS_CHARTING)"
   ]
  },
  {
   "cell_type": "code",
   "execution_count": null,
   "id": "5013fbd8",
   "metadata": {},
   "outputs": [
    {
     "data": {
      "text/html": [
       "<div><style>\n",
       ".dataframe > thead > tr,\n",
       ".dataframe > tbody > tr {\n",
       "  text-align: right;\n",
       "  white-space: pre-wrap;\n",
       "}\n",
       "</style>\n",
       "<small>shape: (1, 13)</small><table border=\"1\" class=\"dataframe\"><thead><tr><th>symbol</th><th>companyName</th><th>stockType</th><th>exchange</th><th>isNasdaqListed</th><th>isNasdaq100</th><th>isHeld</th><th>primaryData</th><th>secondaryData</th><th>marketStatus</th><th>assetClass</th><th>keyStats</th><th>notifications</th></tr><tr><td>str</td><td>str</td><td>str</td><td>str</td><td>bool</td><td>bool</td><td>bool</td><td>struct[12]</td><td>null</td><td>str</td><td>str</td><td>struct[2]</td><td>list[null]</td></tr></thead><tbody><tr><td>&quot;AAPL&quot;</td><td>&quot;Apple Inc. Common Stock&quot;</td><td>&quot;Common Stock&quot;</td><td>&quot;NASDAQ-GS&quot;</td><td>true</td><td>true</td><td>false</td><td>{&quot;$239.69&quot;,&quot;-0.09&quot;,&quot;-0.04%&quot;,&quot;down&quot;,&quot;Sep 6, 2025&quot;,false,&quot;N/A&quot;,&quot;N/A&quot;,&quot;N/A&quot;,&quot;N/A&quot;,&quot;54,870,397&quot;,null}</td><td>null</td><td>&quot;Closed&quot;</td><td>&quot;STOCKS&quot;</td><td>{{&quot;52 Week Range:&quot;,&quot;169.21 - 260.10&quot;},{&quot;High/Low:&quot;,&quot;NA&quot;}}</td><td>[]</td></tr></tbody></table></div>"
      ],
      "text/plain": [
       "shape: (1, 13)\n",
       "┌────────┬────────────┬────────────┬───────────┬───┬───────────┬───────────┬───────────┬───────────┐\n",
       "│ symbol ┆ companyNam ┆ stockType  ┆ exchange  ┆ … ┆ marketSta ┆ assetClas ┆ keyStats  ┆ notificat │\n",
       "│ ---    ┆ e          ┆ ---        ┆ ---       ┆   ┆ tus       ┆ s         ┆ ---       ┆ ions      │\n",
       "│ str    ┆ ---        ┆ str        ┆ str       ┆   ┆ ---       ┆ ---       ┆ struct[2] ┆ ---       │\n",
       "│        ┆ str        ┆            ┆           ┆   ┆ str       ┆ str       ┆           ┆ list[null │\n",
       "│        ┆            ┆            ┆           ┆   ┆           ┆           ┆           ┆ ]         │\n",
       "╞════════╪════════════╪════════════╪═══════════╪═══╪═══════════╪═══════════╪═══════════╪═══════════╡\n",
       "│ AAPL   ┆ Apple Inc. ┆ Common     ┆ NASDAQ-GS ┆ … ┆ Closed    ┆ STOCKS    ┆ {{\"52     ┆ []        │\n",
       "│        ┆ Common     ┆ Stock      ┆           ┆   ┆           ┆           ┆ Week Rang ┆           │\n",
       "│        ┆ Stock      ┆            ┆           ┆   ┆           ┆           ┆ e:\",\"169. ┆           │\n",
       "│        ┆            ┆            ┆           ┆   ┆           ┆           ┆ 21 - 2…   ┆           │\n",
       "└────────┴────────────┴────────────┴───────────┴───┴───────────┴───────────┴───────────┴───────────┘"
      ]
     },
     "execution_count": 32,
     "metadata": {},
     "output_type": "execute_result"
    }
   ],
   "source": [
    "url = f\"https://api.nasdaq.com/api/quote/{SYMBOL}/info?assetclass=stocks\"\n",
    "df = api.get(url)\n",
    "df"
   ]
  },
  {
   "cell_type": "code",
   "execution_count": null,
   "id": "c30f3335",
   "metadata": {},
   "outputs": [
    {
     "data": {
      "text/html": [
       "<div><style>\n",
       ".dataframe > thead > tr,\n",
       ".dataframe > tbody > tr {\n",
       "  text-align: right;\n",
       "  white-space: pre-wrap;\n",
       "}\n",
       "</style>\n",
       "<small>shape: (1, 13)</small><table border=\"1\" class=\"dataframe\"><thead><tr><th>symbol</th><th>companyName</th><th>stockType</th><th>exchange</th><th>isNasdaqListed</th><th>isNasdaq100</th><th>isHeld</th><th>primaryData</th><th>secondaryData</th><th>marketStatus</th><th>assetClass</th><th>keyStats</th><th>notifications</th></tr><tr><td>str</td><td>str</td><td>str</td><td>str</td><td>bool</td><td>bool</td><td>bool</td><td>struct[12]</td><td>null</td><td>str</td><td>str</td><td>struct[2]</td><td>list[null]</td></tr></thead><tbody><tr><td>&quot;AAPL&quot;</td><td>&quot;Apple Inc. Common Stock&quot;</td><td>&quot;Common Stock&quot;</td><td>&quot;NASDAQ-GS&quot;</td><td>true</td><td>true</td><td>false</td><td>{&quot;$239.69&quot;,&quot;-0.09&quot;,&quot;-0.04%&quot;,&quot;down&quot;,&quot;Sep 6, 2025&quot;,false,&quot;N/A&quot;,&quot;N/A&quot;,&quot;N/A&quot;,&quot;N/A&quot;,&quot;54,870,397&quot;,null}</td><td>null</td><td>&quot;Closed&quot;</td><td>&quot;STOCKS&quot;</td><td>{{&quot;52 Week Range:&quot;,&quot;169.21 - 260.10&quot;},{&quot;High/Low:&quot;,&quot;NA&quot;}}</td><td>[]</td></tr></tbody></table></div>"
      ],
      "text/plain": [
       "shape: (1, 13)\n",
       "┌────────┬────────────┬────────────┬───────────┬───┬───────────┬───────────┬───────────┬───────────┐\n",
       "│ symbol ┆ companyNam ┆ stockType  ┆ exchange  ┆ … ┆ marketSta ┆ assetClas ┆ keyStats  ┆ notificat │\n",
       "│ ---    ┆ e          ┆ ---        ┆ ---       ┆   ┆ tus       ┆ s         ┆ ---       ┆ ions      │\n",
       "│ str    ┆ ---        ┆ str        ┆ str       ┆   ┆ ---       ┆ ---       ┆ struct[2] ┆ ---       │\n",
       "│        ┆ str        ┆            ┆           ┆   ┆ str       ┆ str       ┆           ┆ list[null │\n",
       "│        ┆            ┆            ┆           ┆   ┆           ┆           ┆           ┆ ]         │\n",
       "╞════════╪════════════╪════════════╪═══════════╪═══╪═══════════╪═══════════╪═══════════╪═══════════╡\n",
       "│ AAPL   ┆ Apple Inc. ┆ Common     ┆ NASDAQ-GS ┆ … ┆ Closed    ┆ STOCKS    ┆ {{\"52     ┆ []        │\n",
       "│        ┆ Common     ┆ Stock      ┆           ┆   ┆           ┆           ┆ Week Rang ┆           │\n",
       "│        ┆ Stock      ┆            ┆           ┆   ┆           ┆           ┆ e:\",\"169. ┆           │\n",
       "│        ┆            ┆            ┆           ┆   ┆           ┆           ┆ 21 - 2…   ┆           │\n",
       "└────────┴────────────┴────────────┴───────────┴───┴───────────┴───────────┴───────────┴───────────┘"
      ]
     },
     "execution_count": 33,
     "metadata": {},
     "output_type": "execute_result"
    }
   ],
   "source": [
    "url = f\"https://api.nasdaq.com/api/quote/{SYMBOL}/info?assetclass=stocks\"\n",
    "df = api.get(url)\n",
    "df"
   ]
  },
  {
   "cell_type": "code",
   "execution_count": null,
   "id": "160efa05",
   "metadata": {},
   "outputs": [
    {
     "data": {
      "text/html": [
       "<div><style>\n",
       ".dataframe > thead > tr,\n",
       ".dataframe > tbody > tr {\n",
       "  text-align: right;\n",
       "  white-space: pre-wrap;\n",
       "}\n",
       "</style>\n",
       "<small>shape: (1, 5)</small><table border=\"1\" class=\"dataframe\"><thead><tr><th>symbol</th><th>summaryData</th><th>assetClass</th><th>additionalData</th><th>bidAsk</th></tr><tr><td>str</td><td>struct[14]</td><td>str</td><td>null</td><td>struct[2]</td></tr></thead><tbody><tr><td>&quot;AAPL&quot;</td><td>{{&quot;Exchange&quot;,&quot;NASDAQ-GS&quot;},{&quot;Sector&quot;,&quot;Technology&quot;},{&quot;Industry&quot;,&quot;Computer Manufacturing&quot;},{&quot;1 Year Target&quot;,&quot;$240.00&quot;},{&quot;Today&#x27;s High/Low&quot;,&quot;N/A&quot;},{&quot;Share Volume&quot;,&quot;54,870,397&quot;},{&quot;Average Volume&quot;,&quot;53,753,964&quot;},{&quot;Previous Close&quot;,&quot;$239.78&quot;},{&quot;52 Week High/Low&quot;,&quot;$260.1/$169.2101&quot;},{&quot;Market Cap&quot;,&quot;3,557,093,079,100&quot;},{&quot;Annualized Dividend&quot;,&quot;$1.04&quot;},{&quot;Ex Dividend Date&quot;,&quot;Aug 11, 2025&quot;},{&quot;Dividend Pay Date&quot;,&quot;Aug 14, 2025&quot;},{&quot;Current Yield&quot;,&quot;0.43%&quot;}}</td><td>&quot;STOCKS&quot;</td><td>null</td><td>{{&quot;Bid * Size&quot;,&quot;N/A&quot;},{&quot;Ask * Size&quot;,&quot;N/A&quot;}}</td></tr></tbody></table></div>"
      ],
      "text/plain": [
       "shape: (1, 5)\n",
       "┌────────┬─────────────────────────────┬────────────┬────────────────┬─────────────────────────────┐\n",
       "│ symbol ┆ summaryData                 ┆ assetClass ┆ additionalData ┆ bidAsk                      │\n",
       "│ ---    ┆ ---                         ┆ ---        ┆ ---            ┆ ---                         │\n",
       "│ str    ┆ struct[14]                  ┆ str        ┆ null           ┆ struct[2]                   │\n",
       "╞════════╪═════════════════════════════╪════════════╪════════════════╪═════════════════════════════╡\n",
       "│ AAPL   ┆ {{\"Exchange\",\"NASDAQ-GS\"},{ ┆ STOCKS     ┆ null           ┆ {{\"Bid * Size\",\"N/A\"},{\"Ask │\n",
       "│        ┆ \"Se…                        ┆            ┆                ┆ * …                         │\n",
       "└────────┴─────────────────────────────┴────────────┴────────────────┴─────────────────────────────┘"
      ]
     },
     "execution_count": 34,
     "metadata": {},
     "output_type": "execute_result"
    }
   ],
   "source": [
    "url = f\"https://api.nasdaq.com/api/quote/{SYMBOL}/summary?assetclass=stocks\"\n",
    "df = api.get(url)\n",
    "df"
   ]
  },
  {
   "cell_type": "code",
   "execution_count": null,
   "id": "b4018049",
   "metadata": {},
   "outputs": [
    {
     "data": {
      "text/html": [
       "<div><style>\n",
       ".dataframe > thead > tr,\n",
       ".dataframe > tbody > tr {\n",
       "  text-align: right;\n",
       "  white-space: pre-wrap;\n",
       "}\n",
       "</style>\n",
       "<small>shape: (1, 13)</small><table border=\"1\" class=\"dataframe\"><thead><tr><th>chart</th><th>chartPrcMax</th><th>chartPrcMin</th><th>chartVolMax</th><th>chartVolMin</th><th>chartOpenTime</th><th>chartCloseTime</th><th>chartStartTime</th><th>chartEndTime</th><th>chartPrevClose</th><th>chartRefreshTime</th><th>exchange</th><th>table</th></tr><tr><td>list[struct[4]]</td><td>f64</td><td>f64</td><td>i64</td><td>i64</td><td>i64</td><td>i64</td><td>i64</td><td>i64</td><td>f64</td><td>i64</td><td>str</td><td>null</td></tr></thead><tbody><tr><td>[{1392,{&quot;4:00 AM&quot;,&quot;1392&quot;,&quot;$239.31&quot;,&quot;239.7800&quot;},1757044800000,239.31}, {513,{&quot;4:01 AM&quot;,&quot;513&quot;,&quot;$239.3&quot;,&quot;239.7800&quot;},1757044860000,239.3}, … {2242,{&quot;7:59 PM&quot;,&quot;2242&quot;,&quot;$239.23&quot;,&quot;239.7800&quot;},1757102340000,239.23}]</td><td>241.275</td><td>238.54</td><td>13156414</td><td>1</td><td>1757064600000</td><td>1757088000000</td><td>1757044800000</td><td>1757102400000</td><td>239.78</td><td>0</td><td>&quot;NASDAQ-GS&quot;</td><td>null</td></tr></tbody></table></div>"
      ],
      "text/plain": [
       "shape: (1, 13)\n",
       "┌────────────┬────────────┬────────────┬───────────┬───┬───────────┬───────────┬───────────┬───────┐\n",
       "│ chart      ┆ chartPrcMa ┆ chartPrcMi ┆ chartVolM ┆ … ┆ chartPrev ┆ chartRefr ┆ exchange  ┆ table │\n",
       "│ ---        ┆ x          ┆ n          ┆ ax        ┆   ┆ Close     ┆ eshTime   ┆ ---       ┆ ---   │\n",
       "│ list[struc ┆ ---        ┆ ---        ┆ ---       ┆   ┆ ---       ┆ ---       ┆ str       ┆ null  │\n",
       "│ t[4]]      ┆ f64        ┆ f64        ┆ i64       ┆   ┆ f64       ┆ i64       ┆           ┆       │\n",
       "╞════════════╪════════════╪════════════╪═══════════╪═══╪═══════════╪═══════════╪═══════════╪═══════╡\n",
       "│ [{1392,{\"4 ┆ 241.275    ┆ 238.54     ┆ 13156414  ┆ … ┆ 239.78    ┆ 0         ┆ NASDAQ-GS ┆ null  │\n",
       "│ :00 AM\",\"1 ┆            ┆            ┆           ┆   ┆           ┆           ┆           ┆       │\n",
       "│ 392\",\"$239 ┆            ┆            ┆           ┆   ┆           ┆           ┆           ┆       │\n",
       "│ …          ┆            ┆            ┆           ┆   ┆           ┆           ┆           ┆       │\n",
       "└────────────┴────────────┴────────────┴───────────┴───┴───────────┴───────────┴───────────┴───────┘"
      ]
     },
     "execution_count": 35,
     "metadata": {},
     "output_type": "execute_result"
    }
   ],
   "source": [
    "url = f\"https://api.nasdaq.com/api/quote/{SYMBOL}/chart?assetclass=stocks&charttype=rs\"\n",
    "df = api.get(url)\n",
    "df"
   ]
  },
  {
   "cell_type": "code",
   "execution_count": 54,
   "id": "aecc1b83",
   "metadata": {},
   "outputs": [
    {
     "data": {
      "text/html": [
       "<div><style>\n",
       ".dataframe > thead > tr,\n",
       ".dataframe > tbody > tr {\n",
       "  text-align: right;\n",
       "  white-space: pre-wrap;\n",
       "}\n",
       "</style>\n",
       "<small>shape: (1, 2)</small><table border=\"1\" class=\"dataframe\"><thead><tr><th>companyName</th><th>marketData</th></tr><tr><td>str</td><td>list[struct[6]]</td></tr></thead><tbody><tr><td>&quot;APPLE INC&quot;</td><td>[{&quot;2000-01-03 00:00:00&quot;,1.004468,0.907931,0.936387,0.99945,535817709}, {&quot;2000-01-04 00:00:00&quot;,0.987726,0.903467,0.966521,0.915181,511726362}, … {&quot;2025-09-05 00:00:00&quot;,241.32,238.4901,239.995,239.69,54870400}]</td></tr></tbody></table></div>"
      ],
      "text/plain": [
       "shape: (1, 2)\n",
       "┌─────────────┬─────────────────────────────────┐\n",
       "│ companyName ┆ marketData                      │\n",
       "│ ---         ┆ ---                             │\n",
       "│ str         ┆ list[struct[6]]                 │\n",
       "╞═════════════╪═════════════════════════════════╡\n",
       "│ APPLE INC   ┆ [{\"2000-01-03 00:00:00\",1.0044… │\n",
       "└─────────────┴─────────────────────────────────┘"
      ]
     },
     "execution_count": 54,
     "metadata": {},
     "output_type": "execute_result"
    }
   ],
   "source": [
    "url = f\"https://charting.nasdaq.com/data/charting/historical?symbol={SYMBOL}&date=2000-01-01~2025-12-31&\"\n",
    "df = api_chart.get(url)\n",
    "# raw = api_chart.get_raw(url)\n",
    "# raw.json()\n",
    "df"
   ]
  },
  {
   "cell_type": "code",
   "execution_count": 55,
   "id": "f12f16b4",
   "metadata": {},
   "outputs": [
    {
     "data": {
      "text/html": [
       "<div><style>\n",
       ".dataframe > thead > tr,\n",
       ".dataframe > tbody > tr {\n",
       "  text-align: right;\n",
       "  white-space: pre-wrap;\n",
       "}\n",
       "</style>\n",
       "<small>shape: (6_458, 6)</small><table border=\"1\" class=\"dataframe\"><thead><tr><th>Date</th><th>High</th><th>Low</th><th>Open</th><th>Close</th><th>Volume</th></tr><tr><td>str</td><td>f64</td><td>f64</td><td>f64</td><td>f64</td><td>i64</td></tr></thead><tbody><tr><td>&quot;2000-01-03 00:00:00&quot;</td><td>1.004468</td><td>0.907931</td><td>0.936387</td><td>0.99945</td><td>535817709</td></tr><tr><td>&quot;2000-01-04 00:00:00&quot;</td><td>0.987726</td><td>0.903467</td><td>0.966521</td><td>0.915181</td><td>511726362</td></tr><tr><td>&quot;2000-01-05 00:00:00&quot;</td><td>0.987173</td><td>0.919646</td><td>0.926342</td><td>0.928574</td><td>778319221</td></tr><tr><td>&quot;2000-01-06 00:00:00&quot;</td><td>0.95536</td><td>0.848217</td><td>0.947548</td><td>0.848217</td><td>767981542</td></tr><tr><td>&quot;2000-01-07 00:00:00&quot;</td><td>0.901789</td><td>0.852681</td><td>0.86161</td><td>0.888396</td><td>460732814</td></tr><tr><td>&hellip;</td><td>&hellip;</td><td>&hellip;</td><td>&hellip;</td><td>&hellip;</td><td>&hellip;</td></tr><tr><td>&quot;2025-08-29 00:00:00&quot;</td><td>233.38</td><td>231.37</td><td>232.51</td><td>232.14</td><td>39418440</td></tr><tr><td>&quot;2025-09-02 00:00:00&quot;</td><td>230.85</td><td>226.97</td><td>229.25</td><td>229.72</td><td>44075640</td></tr><tr><td>&quot;2025-09-03 00:00:00&quot;</td><td>238.85</td><td>234.36</td><td>237.21</td><td>238.47</td><td>66427840</td></tr><tr><td>&quot;2025-09-04 00:00:00&quot;</td><td>239.8999</td><td>236.74</td><td>238.45</td><td>239.78</td><td>47549430</td></tr><tr><td>&quot;2025-09-05 00:00:00&quot;</td><td>241.32</td><td>238.4901</td><td>239.995</td><td>239.69</td><td>54870400</td></tr></tbody></table></div>"
      ],
      "text/plain": [
       "shape: (6_458, 6)\n",
       "┌─────────────────────┬──────────┬──────────┬──────────┬──────────┬───────────┐\n",
       "│ Date                ┆ High     ┆ Low      ┆ Open     ┆ Close    ┆ Volume    │\n",
       "│ ---                 ┆ ---      ┆ ---      ┆ ---      ┆ ---      ┆ ---       │\n",
       "│ str                 ┆ f64      ┆ f64      ┆ f64      ┆ f64      ┆ i64       │\n",
       "╞═════════════════════╪══════════╪══════════╪══════════╪══════════╪═══════════╡\n",
       "│ 2000-01-03 00:00:00 ┆ 1.004468 ┆ 0.907931 ┆ 0.936387 ┆ 0.99945  ┆ 535817709 │\n",
       "│ 2000-01-04 00:00:00 ┆ 0.987726 ┆ 0.903467 ┆ 0.966521 ┆ 0.915181 ┆ 511726362 │\n",
       "│ 2000-01-05 00:00:00 ┆ 0.987173 ┆ 0.919646 ┆ 0.926342 ┆ 0.928574 ┆ 778319221 │\n",
       "│ 2000-01-06 00:00:00 ┆ 0.95536  ┆ 0.848217 ┆ 0.947548 ┆ 0.848217 ┆ 767981542 │\n",
       "│ 2000-01-07 00:00:00 ┆ 0.901789 ┆ 0.852681 ┆ 0.86161  ┆ 0.888396 ┆ 460732814 │\n",
       "│ …                   ┆ …        ┆ …        ┆ …        ┆ …        ┆ …         │\n",
       "│ 2025-08-29 00:00:00 ┆ 233.38   ┆ 231.37   ┆ 232.51   ┆ 232.14   ┆ 39418440  │\n",
       "│ 2025-09-02 00:00:00 ┆ 230.85   ┆ 226.97   ┆ 229.25   ┆ 229.72   ┆ 44075640  │\n",
       "│ 2025-09-03 00:00:00 ┆ 238.85   ┆ 234.36   ┆ 237.21   ┆ 238.47   ┆ 66427840  │\n",
       "│ 2025-09-04 00:00:00 ┆ 239.8999 ┆ 236.74   ┆ 238.45   ┆ 239.78   ┆ 47549430  │\n",
       "│ 2025-09-05 00:00:00 ┆ 241.32   ┆ 238.4901 ┆ 239.995  ┆ 239.69   ┆ 54870400  │\n",
       "└─────────────────────┴──────────┴──────────┴──────────┴──────────┴───────────┘"
      ]
     },
     "execution_count": 55,
     "metadata": {},
     "output_type": "execute_result"
    }
   ],
   "source": [
    "df.select(pl.col(\"marketData\").explode().struct.unnest())"
   ]
  },
  {
   "cell_type": "code",
   "execution_count": 43,
   "id": "41e08413",
   "metadata": {},
   "outputs": [
    {
     "data": {
      "text/plain": [
       "{'_content': b'<!DOCTYPE html PUBLIC \"-//W3C//DTD XHTML 1.0 Strict//EN\" \"http://www.w3.org/TR/xhtml1/DTD/xhtml1-strict.dtd\">\\r\\n<html xmlns=\"http://www.w3.org/1999/xhtml\">\\r\\n<head>\\r\\n<meta http-equiv=\"Content-Type\" content=\"text/html; charset=iso-8859-1\"/>\\r\\n<title>403 - Forbidden: Access is denied.</title>\\r\\n<style type=\"text/css\">\\r\\n<!--\\r\\nbody{margin:0;font-size:.7em;font-family:Verdana, Arial, Helvetica, sans-serif;background:#EEEEEE;}\\r\\nfieldset{padding:0 15px 10px 15px;} \\r\\nh1{font-size:2.4em;margin:0;color:#FFF;}\\r\\nh2{font-size:1.7em;margin:0;color:#CC0000;} \\r\\nh3{font-size:1.2em;margin:10px 0 0 0;color:#000000;} \\r\\n#header{width:96%;margin:0 0 0 0;padding:6px 2% 6px 2%;font-family:\"trebuchet MS\", Verdana, sans-serif;color:#FFF;\\r\\nbackground-color:#555555;}\\r\\n#content{margin:0 0 0 2%;position:relative;}\\r\\n.content-container{background:#FFF;width:96%;margin-top:8px;padding:10px;position:relative;}\\r\\n-->\\r\\n</style>\\r\\n</head>\\r\\n<body>\\r\\n<div id=\"header\"><h1>Server Error</h1></div>\\r\\n<div id=\"content\">\\r\\n <div class=\"content-container\"><fieldset>\\r\\n  <h2>403 - Forbidden: Access is denied.</h2>\\r\\n  <h3>You do not have permission to view this directory or page using the credentials that you supplied.</h3>\\r\\n </fieldset></div>\\r\\n</div>\\r\\n</body>\\r\\n</html>\\r\\n',\n",
       " '_content_consumed': True,\n",
       " '_next': None,\n",
       " 'status_code': 403,\n",
       " 'headers': {'Date': 'Sat, 06 Sep 2025 10:09:44 GMT', 'Content-Type': 'text/html', 'Content-Length': '1233', 'Connection': 'keep-alive', 'Server': 'Microsoft-IIS/10.0', 'X-Powered-By': 'ASP.NET'},\n",
       " 'raw': <urllib3.response.HTTPResponse at 0x74bb100c4d00>,\n",
       " 'url': 'https://charting.nasdaq.com/data/charting/historical?symbol=AAPL&date=2024-08-24~2024-10-23&',\n",
       " 'encoding': 'ISO-8859-1',\n",
       " 'history': [],\n",
       " 'reason': 'Forbidden: Access is denied.',\n",
       " 'cookies': <RequestsCookieJar[]>,\n",
       " 'elapsed': datetime.timedelta(microseconds=587322),\n",
       " 'request': <PreparedRequest [GET]>,\n",
       " 'connection': <requests.adapters.HTTPAdapter at 0x74baf940a5d0>}"
      ]
     },
     "execution_count": 43,
     "metadata": {},
     "output_type": "execute_result"
    }
   ],
   "source": [
    "raw.__dict__"
   ]
  },
  {
   "cell_type": "code",
   "execution_count": null,
   "id": "e13e965f",
   "metadata": {},
   "outputs": [
    {
     "data": {
      "text/html": [
       "<div><style>\n",
       ".dataframe > thead > tr,\n",
       ".dataframe > tbody > tr {\n",
       "  text-align: right;\n",
       "  white-space: pre-wrap;\n",
       "}\n",
       "</style>\n",
       "<small>shape: (1, 4)</small><table border=\"1\" class=\"dataframe\"><thead><tr><th>heading</th><th>holdings</th><th>nasdaqheading</th><th>nasdaqHoldings</th></tr><tr><td>str</td><td>struct[3]</td><td>str</td><td>struct[3]</td></tr></thead><tbody><tr><td>&quot;ETFs with AAPL as a Top 10 Hol…</td><td>{null,{&quot;Symbol&quot;,&quot;% Weighting&quot;,&quot;100 Day Price Change (%)&quot;},[{&quot;IYW&quot;,&quot;iShares U.S. Technology ETF&quot;,&quot;14.25%&quot;,&quot;+50.02 (+37.65%)&quot;,true,true}, {&quot;TOPT&quot;,&quot;iShares Top 20 U.S. Stocks ETF&quot;,&quot;13.22%&quot;,&quot;+6.55 (+28.75%)&quot;,false,true}, … {&quot;VGT&quot;,&quot;Vanguard Information Tech ETF&quot;,&quot;13.04%&quot;,&quot;+187.77 (+36.83%)&quot;,false,true}]}</td><td>&quot;Nasdaq Listed ETFs where AAPL …</td><td>{null,{&quot;Symbol&quot;,&quot;% Weighting&quot;,&quot;100 Day Price Change (%)&quot;},[{&quot;AAPU&quot;,&quot;Direxion Daily AAPL Bull 2X Shares&quot;,&quot;12.91%&quot;,&quot;+9.47 (+47.95%)&quot;,false,false}, {&quot;QTOP&quot;,&quot;iShares Nasdaq Top 30 Stocks ETF&quot;,&quot;10.49%&quot;,&quot;+7.25 (+31.95%)&quot;,false,false}, … {&quot;QQMG&quot;,&quot;Invesco ESG NASDAQ 100 ETF&quot;,&quot;8.73%&quot;,&quot;+9.03 (+29.80%)&quot;,false,false}]}</td></tr></tbody></table></div>"
      ],
      "text/plain": [
       "shape: (1, 4)\n",
       "┌───────────────────────────────────┬────────────────────┬────────────────────┬────────────────────┐\n",
       "│ heading                           ┆ holdings           ┆ nasdaqheading      ┆ nasdaqHoldings     │\n",
       "│ ---                               ┆ ---                ┆ ---                ┆ ---                │\n",
       "│ str                               ┆ struct[3]          ┆ str                ┆ struct[3]          │\n",
       "╞═══════════════════════════════════╪════════════════════╪════════════════════╪════════════════════╡\n",
       "│ ETFs with AAPL as a Top 10 Hol…   ┆ {null,{\"Symbol\",\"% ┆ Nasdaq Listed ETFs ┆ {null,{\"Symbol\",\"% │\n",
       "│                                   ┆ Weighting\",…       ┆ where AAPL …       ┆ Weighting\",…       │\n",
       "└───────────────────────────────────┴────────────────────┴────────────────────┴────────────────────┘"
      ]
     },
     "execution_count": 36,
     "metadata": {},
     "output_type": "execute_result"
    }
   ],
   "source": [
    "url = f\"https://api.nasdaq.com/api/company/{SYMBOL}/holdings?assetclass=stocks\"\n",
    "df = api.get(url)\n",
    "df"
   ]
  },
  {
   "cell_type": "code",
   "execution_count": null,
   "id": "3c5be19b",
   "metadata": {},
   "outputs": [
    {
     "data": {
      "text/html": [
       "<div><style>\n",
       ".dataframe > thead > tr,\n",
       ".dataframe > tbody > tr {\n",
       "  text-align: right;\n",
       "  white-space: pre-wrap;\n",
       "}\n",
       "</style>\n",
       "<small>shape: (1, 3)</small><table border=\"1\" class=\"dataframe\"><thead><tr><th>message</th><th>rows</th><th>totalrecords</th></tr><tr><td>null</td><td>list[struct[11]]</td><td>i64</td></tr></thead><tbody><tr><td>null</td><td>[{&quot;2 hours ago&quot;,&quot;Sep 6, 2025&quot;,25683166,&quot;&quot;,&quot;https://www.nasdaq.com/sites/acquia.prod/files&quot;,&quot;aapl&quot;,&quot;Markets|4006&quot;,&quot;The Motley Fool&quot;,[&quot;aapl|stocks&quot;],&quot;Is Investing $100 in Apple Stock Worth it?&quot;,&quot;/articles/investing-100-apple-stock-worth-it&quot;}, {&quot;2 hours ago&quot;,&quot;Sep 6, 2025&quot;,25683181,&quot;&quot;,&quot;https://www.nasdaq.com/sites/acquia.prod/files&quot;,&quot;brk.b&quot;,&quot;Markets|4006&quot;,&quot;The Motley Fool&quot;,[&quot;brk.b|stocks&quot;, &quot;brk.a|stocks&quot;, … &quot;amzn|stocks&quot;],&quot;Does Warren Buffett Know Something Wall Street Doesn&#x27;t? The Billionaire Is Hoarding Hundreds of Billions in Cash and Only Owns 2 &quot;Magnificent Seven&quot; Stocks&quot;,&quot;/articles/does-warren-buffett-know-something-wall-street-doesnt-billionaire-hoarding-hundreds&quot;}, … {&quot;19 hours ago&quot;,&quot;Sep 5, 2025&quot;,25681181,&quot;&quot;,&quot;https://www.nasdaq.com/sites/acquia.prod/files&quot;,&quot;&quot;,&quot;Technology|4001&quot;,&quot;Zacks&quot;,[&quot;nvs|stocks&quot;, &quot;aapl|stocks&quot;, … &quot;opxs|stocks&quot;],&quot;The Zacks Analyst Blog Highlights Apple, Novartis, Charles Schwab, Community Bancorp and Optex Systems&quot;,&quot;/articles/zacks-analyst-blog-highlights-apple-novartis-charles-schwab-community-bancorp-and-optex&quot;}]</td><td>9262</td></tr></tbody></table></div>"
      ],
      "text/plain": [
       "shape: (1, 3)\n",
       "┌─────────┬─────────────────────────────────┬──────────────┐\n",
       "│ message ┆ rows                            ┆ totalrecords │\n",
       "│ ---     ┆ ---                             ┆ ---          │\n",
       "│ null    ┆ list[struct[11]]                ┆ i64          │\n",
       "╞═════════╪═════════════════════════════════╪══════════════╡\n",
       "│ null    ┆ [{\"2 hours ago\",\"Sep 6, 2025\",… ┆ 9262         │\n",
       "└─────────┴─────────────────────────────────┴──────────────┘"
      ]
     },
     "execution_count": 38,
     "metadata": {},
     "output_type": "execute_result"
    }
   ],
   "source": [
    "url = f\"https://www.nasdaq.com/api/news/topic/articlebysymbol?q={SYMBOL}|STOCKS&offset=0&limit=10&fallback=true\"\n",
    "df = api.get(url)\n",
    "df"
   ]
  },
  {
   "cell_type": "code",
   "execution_count": null,
   "id": "2c0a59a3",
   "metadata": {},
   "outputs": [],
   "source": [
    "import nasdaqdatalink, tomllib\n",
    "\n",
    "with open(\"env.toml\", \"rb\") as fp:\n",
    "    env = tomllib.load(fp)\n",
    "    nasdaqdatalink.ApiConfig.api_key = env[\"secrets\"][\"NDL_APIKEY\"]\n",
    "data = nasdaqdatalink.get_table(\"MER/F1\", compnumber=\"39102\", paginate=True)"
   ]
  },
  {
   "cell_type": "code",
   "execution_count": 116,
   "id": "ab073c97",
   "metadata": {},
   "outputs": [],
   "source": [
    "df = pl.DataFrame(data).filter(pl.sql_expr(\"reportdate = DATE '2011-09-30'\"))\n",
    "# df.select(pl.col(\"website\").unique().count() )"
   ]
  },
  {
   "cell_type": "code",
   "execution_count": 115,
   "id": "d161a830",
   "metadata": {},
   "outputs": [
    {
     "data": {
      "text/html": [
       "<div><style>\n",
       ".dataframe > thead > tr,\n",
       ".dataframe > tbody > tr {\n",
       "  text-align: right;\n",
       "  white-space: pre-wrap;\n",
       "}\n",
       "</style>\n",
       "<small>shape: (21, 1)</small><table border=\"1\" class=\"dataframe\"><thead><tr><th>reportdate</th></tr><tr><td>datetime[ns]</td></tr></thead><tbody><tr><td>2010-12-31 00:00:00</td></tr><tr><td>2011-03-31 00:00:00</td></tr><tr><td>2011-06-30 00:00:00</td></tr><tr><td>2011-09-30 00:00:00</td></tr><tr><td>2011-12-31 00:00:00</td></tr><tr><td>&hellip;</td></tr><tr><td>2014-12-31 00:00:00</td></tr><tr><td>2015-03-31 00:00:00</td></tr><tr><td>2015-06-30 00:00:00</td></tr><tr><td>2015-09-30 00:00:00</td></tr><tr><td>2015-12-31 00:00:00</td></tr></tbody></table></div>"
      ],
      "text/plain": [
       "shape: (21, 1)\n",
       "┌─────────────────────┐\n",
       "│ reportdate          │\n",
       "│ ---                 │\n",
       "│ datetime[ns]        │\n",
       "╞═════════════════════╡\n",
       "│ 2010-12-31 00:00:00 │\n",
       "│ 2011-03-31 00:00:00 │\n",
       "│ 2011-06-30 00:00:00 │\n",
       "│ 2011-09-30 00:00:00 │\n",
       "│ 2011-12-31 00:00:00 │\n",
       "│ …                   │\n",
       "│ 2014-12-31 00:00:00 │\n",
       "│ 2015-03-31 00:00:00 │\n",
       "│ 2015-06-30 00:00:00 │\n",
       "│ 2015-09-30 00:00:00 │\n",
       "│ 2015-12-31 00:00:00 │\n",
       "└─────────────────────┘"
      ]
     },
     "execution_count": 115,
     "metadata": {},
     "output_type": "execute_result"
    }
   ],
   "source": [
    "pl.DataFrame(data).select(pl.col(\"reportdate\").unique()).sort(\"reportdate\")"
   ]
  },
  {
   "cell_type": "code",
   "execution_count": null,
   "id": "c92d48e9",
   "metadata": {},
   "outputs": [],
   "source": [
    "distincts = df.select(\n",
    "    *[pl.col(c).unique().count() for c in df.columns if c != \"website\"]\n",
    ").to_dicts()[0]\n",
    "relevant_columns = [\"ticker\"] + [k for k, v in distincts.items() if v != 1]\n",
    "# relevant_columns"
   ]
  },
  {
   "cell_type": "code",
   "execution_count": 118,
   "id": "c6783b8e",
   "metadata": {},
   "outputs": [
    {
     "data": {
      "text/html": [
       "<div><style>\n",
       ".dataframe > thead > tr,\n",
       ".dataframe > tbody > tr {\n",
       "  text-align: right;\n",
       "  white-space: pre-wrap;\n",
       "}\n",
       "</style>\n",
       "<small>shape: (48, 9)</small><table border=\"1\" class=\"dataframe\"><thead><tr><th>ticker</th><th>mapcode</th><th>amount</th><th>address2</th><th>address3</th><th>address4</th><th>statecode</th><th>indicator</th><th>statement</th></tr><tr><td>str</td><td>i64</td><td>f64</td><td>str</td><td>str</td><td>str</td><td>str</td><td>str</td><td>str</td></tr></thead><tbody><tr><td>&quot;NOK&quot;</td><td>-6159</td><td>0.453985</td><td>null</td><td>null</td><td>null</td><td>null</td><td>&quot;Total Debt to Equity&quot;</td><td>&quot;Derived&quot;</td></tr><tr><td>&quot;NOK&quot;</td><td>-5009</td><td>-0.189333</td><td>null</td><td>null</td><td>null</td><td>null</td><td>&quot;Return on Assets&quot;</td><td>&quot;Derived&quot;</td></tr><tr><td>&quot;NOK&quot;</td><td>-4050</td><td>1.1033e10</td><td>null</td><td>null</td><td>null</td><td>null</td><td>&quot;Receivables&quot;</td><td>&quot;Balance Sheet&quot;</td></tr><tr><td>&quot;NOK&quot;</td><td>-4019</td><td>6.4710e9</td><td>null</td><td>null</td><td>null</td><td>null</td><td>&quot;Direct Expenses&quot;</td><td>&quot;Income Statement&quot;</td></tr><tr><td>&quot;NOK&quot;</td><td>-1791</td><td>3.174903</td><td>null</td><td>null</td><td>null</td><td>null</td><td>&quot;Receivables Turnover&quot;</td><td>&quot;Derived&quot;</td></tr><tr><td>&hellip;</td><td>&hellip;</td><td>&hellip;</td><td>&hellip;</td><td>&hellip;</td><td>&hellip;</td><td>&hellip;</td><td>&hellip;</td><td>&hellip;</td></tr><tr><td>&quot;NOK&quot;</td><td>-4074</td><td>-0.757238</td><td>null</td><td>null</td><td>null</td><td>null</td><td>&quot;Net Margin&quot;</td><td>&quot;Derived&quot;</td></tr><tr><td>&quot;NOK&quot;</td><td>-4023</td><td>-0.02</td><td>null</td><td>null</td><td>null</td><td>null</td><td>&quot;EPS - Net Income - Diluted&quot;</td><td>&quot;Income Statement&quot;</td></tr><tr><td>&quot;NOK&quot;</td><td>-1802</td><td>4.909015</td><td>null</td><td>null</td><td>null</td><td>null</td><td>&quot;Accrued Expenses Turnover&quot;</td><td>&quot;Derived&quot;</td></tr><tr><td>&quot;NOK&quot;</td><td>-1017</td><td>0.330329</td><td>null</td><td>null</td><td>null</td><td>null</td><td>&quot;Long Term Debt to Equity&quot;</td><td>&quot;Derived&quot;</td></tr><tr><td>&quot;NOK&quot;</td><td>-873</td><td>3.6604e10</td><td>null</td><td>null</td><td>null</td><td>null</td><td>&quot;Total Assets&quot;</td><td>&quot;Balance Sheet&quot;</td></tr></tbody></table></div>"
      ],
      "text/plain": [
       "shape: (48, 9)\n",
       "┌────────┬─────────┬───────────┬──────────┬───┬──────────┬───────────┬─────────────────┬───────────┐\n",
       "│ ticker ┆ mapcode ┆ amount    ┆ address2 ┆ … ┆ address4 ┆ statecode ┆ indicator       ┆ statement │\n",
       "│ ---    ┆ ---     ┆ ---       ┆ ---      ┆   ┆ ---      ┆ ---       ┆ ---             ┆ ---       │\n",
       "│ str    ┆ i64     ┆ f64       ┆ str      ┆   ┆ str      ┆ str       ┆ str             ┆ str       │\n",
       "╞════════╪═════════╪═══════════╪══════════╪═══╪══════════╪═══════════╪═════════════════╪═══════════╡\n",
       "│ NOK    ┆ -6159   ┆ 0.453985  ┆ null     ┆ … ┆ null     ┆ null      ┆ Total Debt to   ┆ Derived   │\n",
       "│        ┆         ┆           ┆          ┆   ┆          ┆           ┆ Equity          ┆           │\n",
       "│ NOK    ┆ -5009   ┆ -0.189333 ┆ null     ┆ … ┆ null     ┆ null      ┆ Return on       ┆ Derived   │\n",
       "│        ┆         ┆           ┆          ┆   ┆          ┆           ┆ Assets          ┆           │\n",
       "│ NOK    ┆ -4050   ┆ 1.1033e10 ┆ null     ┆ … ┆ null     ┆ null      ┆ Receivables     ┆ Balance   │\n",
       "│        ┆         ┆           ┆          ┆   ┆          ┆           ┆                 ┆ Sheet     │\n",
       "│ NOK    ┆ -4019   ┆ 6.4710e9  ┆ null     ┆ … ┆ null     ┆ null      ┆ Direct Expenses ┆ Income    │\n",
       "│        ┆         ┆           ┆          ┆   ┆          ┆           ┆                 ┆ Statement │\n",
       "│ NOK    ┆ -1791   ┆ 3.174903  ┆ null     ┆ … ┆ null     ┆ null      ┆ Receivables     ┆ Derived   │\n",
       "│        ┆         ┆           ┆          ┆   ┆          ┆           ┆ Turnover        ┆           │\n",
       "│ …      ┆ …       ┆ …         ┆ …        ┆ … ┆ …        ┆ …         ┆ …               ┆ …         │\n",
       "│ NOK    ┆ -4074   ┆ -0.757238 ┆ null     ┆ … ┆ null     ┆ null      ┆ Net Margin      ┆ Derived   │\n",
       "│ NOK    ┆ -4023   ┆ -0.02     ┆ null     ┆ … ┆ null     ┆ null      ┆ EPS - Net       ┆ Income    │\n",
       "│        ┆         ┆           ┆          ┆   ┆          ┆           ┆ Income -        ┆ Statement │\n",
       "│        ┆         ┆           ┆          ┆   ┆          ┆           ┆ Diluted         ┆           │\n",
       "│ NOK    ┆ -1802   ┆ 4.909015  ┆ null     ┆ … ┆ null     ┆ null      ┆ Accrued         ┆ Derived   │\n",
       "│        ┆         ┆           ┆          ┆   ┆          ┆           ┆ Expenses        ┆           │\n",
       "│        ┆         ┆           ┆          ┆   ┆          ┆           ┆ Turnover        ┆           │\n",
       "│ NOK    ┆ -1017   ┆ 0.330329  ┆ null     ┆ … ┆ null     ┆ null      ┆ Long Term Debt  ┆ Derived   │\n",
       "│        ┆         ┆           ┆          ┆   ┆          ┆           ┆ to Equity       ┆           │\n",
       "│ NOK    ┆ -873    ┆ 3.6604e10 ┆ null     ┆ … ┆ null     ┆ null      ┆ Total Assets    ┆ Balance   │\n",
       "│        ┆         ┆           ┆          ┆   ┆          ┆           ┆                 ┆ Sheet     │\n",
       "└────────┴─────────┴───────────┴──────────┴───┴──────────┴───────────┴─────────────────┴───────────┘"
      ]
     },
     "execution_count": 118,
     "metadata": {},
     "output_type": "execute_result"
    }
   ],
   "source": [
    "df.select(relevant_columns)"
   ]
  },
  {
   "cell_type": "code",
   "execution_count": 133,
   "id": "56153ae4",
   "metadata": {},
   "outputs": [],
   "source": [
    "pl.read_csv(\"nasdaq_*\").write_parquet(\"data/bronze/company_ticker_info.parquet\")"
   ]
  },
  {
   "cell_type": "code",
   "execution_count": null,
   "id": "c6db96e3",
   "metadata": {},
   "outputs": [],
   "source": [
    "pl.read_parquet(\"data/bronze/company*\").sort(\n",
    "    \"Market Cap\", descending=True, nulls_last=True\n",
    ").select(\n",
    "    pl.col(\"Symbol\").alias(\"symbol\"),\n",
    "    pl.col(\"Name\").alias(\"name\"),\n",
    "    pl.col(\"Market Cap\").alias(\"market_cap\"),\n",
    "    pl.col(\"Country\").alias(\"country\"),\n",
    "    pl.col(\"IPO Year\").alias(\"ipo_year\"),\n",
    "    pl.col(\"Volume\").alias(\"volume\"),\n",
    "    pl.col(\"Sector\").alias(\"sector\"),\n",
    "    pl.col(\"Industry\").alias(\"industry\"),\n",
    ").write_parquet(\n",
    "    \"data/silver/company_tickers.parquet\"\n",
    ")"
   ]
  },
  {
   "cell_type": "code",
   "execution_count": 4,
   "id": "745fbbca",
   "metadata": {},
   "outputs": [],
   "source": [
    "symbols = (\n",
    "    pl.read_parquet(\"data/silver/company_ti*\")\n",
    "    .sort(\"market_cap\", descending=True, nulls_last=True)\n",
    "    .limit(1000)\n",
    "    .select(\"symbol\")\n",
    "    .to_dicts()\n",
    ")\n",
    "symbols = [r[\"symbol\"] for r in symbols]\n",
    "# symbols"
   ]
  },
  {
   "cell_type": "code",
   "execution_count": 7,
   "id": "7afe7374",
   "metadata": {},
   "outputs": [
    {
     "name": "stdout",
     "output_type": "stream",
     "text": [
      "nothing new written\n"
     ]
    }
   ],
   "source": [
    "min_date = (\n",
    "    pl.read_parquet(\"data/bronze/stock_data_daily_*\")\n",
    "    .select(pl.max(\"Date\") + pl.duration(days=1))\n",
    "    .to_dicts()[0][\"Date\"]\n",
    ").date()\n",
    "if min_date != datetime.today().date():\n",
    "    pdf_raw = yf.download(tickers=symbols[:3], start=min_date)\n",
    "    pdf_flatten = (\n",
    "        pdf_raw.stack(1, future_stack=True)\n",
    "        .reset_index()\n",
    "        .rename(columns={\"level_1\": \"Ticker\"})\n",
    "    )\n",
    "    df_polars = pl.DataFrame(pdf_flatten)\n",
    "    df_polars.write_parquet(\n",
    "        f\"data/bronze/stock_data_daily_{datetime.now():%Y-%m-%dT%H:%M:%S}.parquet\"\n",
    "    )\n",
    "    print(\"new written\")\n",
    "else:\n",
    "    print(\"nothing new written\")"
   ]
  },
  {
   "cell_type": "code",
   "execution_count": null,
   "id": "2fc2f9ac",
   "metadata": {},
   "outputs": [
    {
     "data": {
      "text/html": [
       "<div><style>\n",
       ".dataframe > thead > tr,\n",
       ".dataframe > tbody > tr {\n",
       "  text-align: right;\n",
       "  white-space: pre-wrap;\n",
       "}\n",
       "</style>\n",
       "<small>shape: (4_818_070, 7)</small><table border=\"1\" class=\"dataframe\"><thead><tr><th>ticker</th><th>date</th><th>high</th><th>low</th><th>open</th><th>close</th><th>volume</th></tr><tr><td>str</td><td>date</td><td>f64</td><td>f64</td><td>f64</td><td>f64</td><td>f64</td></tr></thead><tbody><tr><td>&quot;PEGA&quot;</td><td>2016-04-18</td><td>12.855353</td><td>12.052805</td><td>12.052805</td><td>12.787258</td><td>846600.0</td></tr><tr><td>&quot;EXR&quot;</td><td>2019-01-15</td><td>72.433645</td><td>70.989705</td><td>71.194856</td><td>72.260056</td><td>483300.0</td></tr><tr><td>&quot;MAS&quot;</td><td>2006-11-13</td><td>16.666255</td><td>16.370124</td><td>16.583337</td><td>16.535957</td><td>2.673959e6</td></tr><tr><td>&quot;MOH&quot;</td><td>2018-11-05</td><td>126.099998</td><td>121.5</td><td>122.150002</td><td>124.720001</td><td>1.2103e6</td></tr><tr><td>&quot;ABEV&quot;</td><td>2020-11-09</td><td>2.064192</td><td>1.994613</td><td>2.033268</td><td>2.056461</td><td>5.77736e7</td></tr><tr><td>&hellip;</td><td>&hellip;</td><td>&hellip;</td><td>&hellip;</td><td>&hellip;</td><td>&hellip;</td><td>&hellip;</td></tr><tr><td>&quot;SCI&quot;</td><td>2021-03-29</td><td>48.346217</td><td>47.18733</td><td>47.841539</td><td>47.729389</td><td>734500.0</td></tr><tr><td>&quot;FAST&quot;</td><td>2001-05-15</td><td>0.953301</td><td>0.926349</td><td>0.931862</td><td>0.931862</td><td>1.3728e7</td></tr><tr><td>&quot;CNI&quot;</td><td>2018-04-26</td><td>67.908675</td><td>66.583113</td><td>66.888339</td><td>67.620888</td><td>2.0673e6</td></tr><tr><td>&quot;FHN&quot;</td><td>2025-07-29</td><td>22.709999</td><td>22.1</td><td>22.68</td><td>22.309999</td><td>1.28855e7</td></tr><tr><td>&quot;BA&quot;</td><td>2024-08-05</td><td>167.679993</td><td>162.5</td><td>162.520004</td><td>167.029999</td><td>9.2551e6</td></tr></tbody></table></div>"
      ],
      "text/plain": [
       "shape: (4_818_070, 7)\n",
       "┌────────┬────────────┬────────────┬───────────┬────────────┬────────────┬────────────┐\n",
       "│ ticker ┆ date       ┆ high       ┆ low       ┆ open       ┆ close      ┆ volume     │\n",
       "│ ---    ┆ ---        ┆ ---        ┆ ---       ┆ ---        ┆ ---        ┆ ---        │\n",
       "│ str    ┆ date       ┆ f64        ┆ f64       ┆ f64        ┆ f64        ┆ f64        │\n",
       "╞════════╪════════════╪════════════╪═══════════╪════════════╪════════════╪════════════╡\n",
       "│ PEGA   ┆ 2016-04-18 ┆ 12.855353  ┆ 12.052805 ┆ 12.052805  ┆ 12.787258  ┆ 846600.0   │\n",
       "│ EXR    ┆ 2019-01-15 ┆ 72.433645  ┆ 70.989705 ┆ 71.194856  ┆ 72.260056  ┆ 483300.0   │\n",
       "│ MAS    ┆ 2006-11-13 ┆ 16.666255  ┆ 16.370124 ┆ 16.583337  ┆ 16.535957  ┆ 2.673959e6 │\n",
       "│ MOH    ┆ 2018-11-05 ┆ 126.099998 ┆ 121.5     ┆ 122.150002 ┆ 124.720001 ┆ 1.2103e6   │\n",
       "│ ABEV   ┆ 2020-11-09 ┆ 2.064192   ┆ 1.994613  ┆ 2.033268   ┆ 2.056461   ┆ 5.77736e7  │\n",
       "│ …      ┆ …          ┆ …          ┆ …         ┆ …          ┆ …          ┆ …          │\n",
       "│ SCI    ┆ 2021-03-29 ┆ 48.346217  ┆ 47.18733  ┆ 47.841539  ┆ 47.729389  ┆ 734500.0   │\n",
       "│ FAST   ┆ 2001-05-15 ┆ 0.953301   ┆ 0.926349  ┆ 0.931862   ┆ 0.931862   ┆ 1.3728e7   │\n",
       "│ CNI    ┆ 2018-04-26 ┆ 67.908675  ┆ 66.583113 ┆ 66.888339  ┆ 67.620888  ┆ 2.0673e6   │\n",
       "│ FHN    ┆ 2025-07-29 ┆ 22.709999  ┆ 22.1      ┆ 22.68      ┆ 22.309999  ┆ 1.28855e7  │\n",
       "│ BA     ┆ 2024-08-05 ┆ 167.679993 ┆ 162.5     ┆ 162.520004 ┆ 167.029999 ┆ 9.2551e6   │\n",
       "└────────┴────────────┴────────────┴───────────┴────────────┴────────────┴────────────┘"
      ]
     },
     "execution_count": 16,
     "metadata": {},
     "output_type": "execute_result"
    }
   ],
   "source": [
    "pl.read_parquet(\"data/bronze/stock_data_daily_*\").filter(\n",
    "    pl.col(\"Close\").is_not_null()\n",
    ").select(\n",
    "    pl.col(\"Ticker\").alias(\"ticker\"),\n",
    "    pl.col(\"Date\").cast(pl.Date).alias(\"date\"),\n",
    "    pl.col(\"High\").alias(\"high\"),\n",
    "    pl.col(\"Low\").alias(\"low\"),\n",
    "    pl.col(\"Open\").alias(\"open\"),\n",
    "    pl.col(\"Close\").alias(\"close\"),\n",
    "    pl.col(\"Volume\").alias(\"volume\"),\n",
    ").unique(\n",
    "    subset=[\"ticker\", \"date\"]\n",
    ").write_parquet(\n",
    "    \"data/silver/stock_daily_candle.parquet\"\n",
    ")"
   ]
  }
 ],
 "metadata": {
  "kernelspec": {
   "display_name": ".venv",
   "language": "python",
   "name": "python3"
  },
  "language_info": {
   "codemirror_mode": {
    "name": "ipython",
    "version": 3
   },
   "file_extension": ".py",
   "mimetype": "text/x-python",
   "name": "python",
   "nbconvert_exporter": "python",
   "pygments_lexer": "ipython3",
   "version": "3.13.3"
  }
 },
 "nbformat": 4,
 "nbformat_minor": 5
}
